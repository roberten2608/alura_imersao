{
  "nbformat": 4,
  "nbformat_minor": 0,
  "metadata": {
    "colab": {
      "provenance": [],
      "authorship_tag": "ABX9TyMXluVyF3L/jmkjzyRSqmek",
      "include_colab_link": true
    },
    "kernelspec": {
      "name": "python3",
      "display_name": "Python 3"
    },
    "language_info": {
      "name": "python"
    }
  },
  "cells": [
    {
      "cell_type": "markdown",
      "metadata": {
        "id": "view-in-github",
        "colab_type": "text"
      },
      "source": [
        "<a href=\"https://colab.research.google.com/github/roberten2608/alura_imersao/blob/main/agente_criacao_atividades_educativas.ipynb\" target=\"_parent\"><img src=\"https://colab.research.google.com/assets/colab-badge.svg\" alt=\"Open In Colab\"/></a>"
      ]
    },
    {
      "cell_type": "code",
      "execution_count": null,
      "metadata": {
        "id": "xUE6am2vnK4w"
      },
      "outputs": [],
      "source": [
        "!pip -q install google-genai"
      ]
    },
    {
      "cell_type": "code",
      "source": [
        "# Configura a API Key do Google Gemini\n",
        "\n",
        "import os\n",
        "from google.colab import userdata\n",
        "\n",
        "os.environ[\"secretName\"] = userdata.get('secretName')"
      ],
      "metadata": {
        "id": "NzBPptoQnxHA"
      },
      "execution_count": null,
      "outputs": []
    },
    {
      "cell_type": "code",
      "source": [
        "# Configura o cliente da SDK do Gemini\n",
        "\n",
        "from google import genai\n",
        "\n",
        "client = genai.Client()\n",
        "\n",
        "MODEL_ID = \"gemini-2.0-flash\""
      ],
      "metadata": {
        "id": "O8nJ_4kGnz3g"
      },
      "execution_count": null,
      "outputs": []
    },
    {
      "cell_type": "code",
      "source": [
        "# Instalar Framework de agentes do Google ################################################\n",
        "!pip install -q google-adk"
      ],
      "metadata": {
        "id": "dNevGHHiq6QY"
      },
      "execution_count": null,
      "outputs": []
    },
    {
      "cell_type": "code",
      "source": [
        "from google.adk.agents import Agent\n",
        "from google.adk.runners import Runner\n",
        "from google.adk.sessions import InMemorySessionService\n",
        "from google.adk.tools import google_search\n",
        "from google.genai import types  # Para criar conteúdos (Content e Part)\n",
        "from datetime import date\n",
        "import textwrap # Para formatar melhor a saída de texto\n",
        "from IPython.display import display, Markdown # Para exibir texto formatado no Colab\n",
        "import requests # Para fazer requisições HTTP\n",
        "import warnings\n",
        "\n",
        "warnings.filterwarnings(\"ignore\")"
      ],
      "metadata": {
        "id": "V_6D9pfdq_d-"
      },
      "execution_count": null,
      "outputs": []
    },
    {
      "cell_type": "code",
      "source": [
        "# Função auxiliar que envia uma mensagem para um agente via Runner e retorna a resposta final\n",
        "def call_agent(agent: Agent, message_text: str) -> str:\n",
        "    # Cria um serviço de sessão em memória\n",
        "    session_service = InMemorySessionService()\n",
        "    # Cria uma nova sessão (você pode personalizar os IDs conforme necessário)\n",
        "    session = session_service.create_session(app_name=agent.name, user_id=\"user1\", session_id=\"session1\")\n",
        "    # Cria um Runner para o agente\n",
        "    runner = Runner(agent=agent, app_name=agent.name, session_service=session_service)\n",
        "    # Cria o conteúdo da mensagem de entrada\n",
        "    content = types.Content(role=\"user\", parts=[types.Part(text=message_text)])\n",
        "\n",
        "    final_response = \"\"\n",
        "    # Itera assincronamente pelos eventos retornados durante a execução do agente\n",
        "    for event in runner.run(user_id=\"user1\", session_id=\"session1\", new_message=content):\n",
        "        if event.is_final_response():\n",
        "          for part in event.content.parts:\n",
        "            if part.text is not None:\n",
        "              final_response += part.text\n",
        "              final_response += \"\\n\"\n",
        "    return final_response"
      ],
      "metadata": {
        "id": "GDS6-66WrMJV"
      },
      "execution_count": null,
      "outputs": []
    },
    {
      "cell_type": "code",
      "source": [
        "# Função agente_buscador\n",
        "def agente_buscador(topico, data_de_hoje):\n",
        "    buscador = Agent(\n",
        "        name=\"agente_buscador_atividades\",\n",
        "        model=\"gemini-2.0-flash\",\n",
        "        instruction=\"\"\"\n",
        "        Você é um assistente de pesquisa especializado em educação infantil. Use a ferramenta de busca do google (google_search)\n",
        "        para encontrar ideias de atividades para crianças sobre o tópico abaixo.\n",
        "        Foque em atividades práticas e criativas. Considere apenas atividades recentes e inovadoras.\n",
        "        \"\"\",\n",
        "        description=\"Agente que busca ideias educativas no Google\",\n",
        "        tools=[google_search]\n",
        "    )\n",
        "\n",
        "    entrada_do_agente_buscador = f\"Tópico: {topico}\\nData de hoje: {data_de_hoje}\"\n",
        "    atividades = call_agent(buscador, entrada_do_agente_buscador)\n",
        "    return atividades"
      ],
      "metadata": {
        "id": "GWZpvy4jvEr1"
      },
      "execution_count": null,
      "outputs": []
    },
    {
      "cell_type": "code",
      "source": [
        "# Função auxiliar para exibir texto em Markdown\n",
        "def to_markdown(text):\n",
        "    text = text.replace('•', '  *')\n",
        "    return Markdown(textwrap.indent(text, '> ', predicate=lambda _: True))"
      ],
      "metadata": {
        "id": "53xMK9QDxIps"
      },
      "execution_count": null,
      "outputs": []
    },
    {
      "cell_type": "code",
      "source": [
        "# Agente 1: Buscador de Atividades\n",
        "def agente_buscador(topico, data_de_hoje):\n",
        "    buscador = Agent(\n",
        "        name=\"agente_buscador_atividades\",\n",
        "        model=\"gemini-2.0-flash\",\n",
        "        instruction=\"\"\"\n",
        "        Você é um assistente de pesquisa especializado em educação infantil. Usando a ferramenta de busca do Google,\n",
        "        busque ideias de atividades para crianças sobre o tópico dado.\n",
        "        Priorize atividades práticas e criativas que geralmente incluem diagramas visuais ou imagens.\n",
        "        Procure em blogs de professores e sites educacionais que frequentemente compartilham recursos visuais.\n",
        "        \"\"\",\n",
        "        description=\"Agente que busca ideias educativas no Google\",\n",
        "        tools=[google_search]\n",
        "    )\n",
        "\n",
        "    entrada_do_agente_buscador = f\"Tópico: {topico}\\nData de hoje: {data_de_hoje}\"\n",
        "    atividades = call_agent(buscador, entrada_do_agente_buscador)\n",
        "    return atividades"
      ],
      "metadata": {
        "id": "z8IGbWZYwSfj"
      },
      "execution_count": null,
      "outputs": []
    },
    {
      "cell_type": "code",
      "source": [
        "# Agente 2: Planejador de Atividades\n",
        "def agente_planejador(topico, atividades_buscadas):\n",
        "    planejador = Agent(\n",
        "        name=\"agente_planejador_atividades\",\n",
        "        model=\"gemini-2.0-flash\",\n",
        "        instruction=\"\"\"\n",
        "        Organize as ideias de atividades encontradas em categorias específicas: atividades manuais, jogos, música e movimento.\n",
        "        Indique quais materiais são necessários para cada atividade e como aplicar essas atividades em uma aula.\n",
        "        \"\"\",\n",
        "        description=\"Agente que planeja atividades educativas\"\n",
        "    )\n",
        "\n",
        "    entrada_do_agente_planejador = f\"Tópico: {topico}\\nAtividades encontradas: {atividades_buscadas}\"\n",
        "    plano_de_atividades = call_agent(planejador, entrada_do_agente_planejador)\n",
        "    return plano_de_atividades\n"
      ],
      "metadata": {
        "id": "SnqU_zzuwaNi"
      },
      "execution_count": null,
      "outputs": []
    },
    {
      "cell_type": "code",
      "source": [
        "data_de_hoje = date.today().strftime(\"%d/%m/%Y\")\n",
        "\n",
        "print(\"🚀 Iniciando o Sistema de Criação de Atividades Educativas ��\")\n",
        "\n",
        "# Obter tópico do usuário\n",
        "topico = input(\"❓ Por favor, digite o TÓPICO sobre o qual você quer ideias de atividades: \")\n",
        "\n",
        "if not topico:\n",
        "    print(\"Você esqueceu de digitar o tópico!\")\n",
        "else:\n",
        "    print(f\"Vamos criar ideias de atividades para {topico}\")\n",
        "\n",
        "    atividades_buscadas = agente_buscador(topico, data_de_hoje)\n",
        "    print(\"\\n--- �� Resultado do Agente 1 (Buscador de Atividades) ---\\n\")\n",
        "    display(to_markdown(atividades_buscadas))\n",
        "\n",
        "    plano_de_atividades = agente_planejador(topico, atividades_buscadas)\n",
        "    print(\"\\n--- �� Resultado do Agente 2 (Planejador de Atividades) ---\\n\")\n",
        "    display(to_markdown(plano_de_atividades))"
      ],
      "metadata": {
        "colab": {
          "base_uri": "https://localhost:8080/",
          "height": 1000
        },
        "id": "RqxHNkDSwd4X",
        "outputId": "839fe770-2d89-463a-b0e5-7ad7a29d8388"
      },
      "execution_count": null,
      "outputs": [
        {
          "output_type": "stream",
          "name": "stdout",
          "text": [
            "🚀 Iniciando o Sistema de Criação de Atividades Educativas ��\n",
            "❓ Por favor, digite o TÓPICO sobre o qual você quer ideias de atividades: Atividades numeral 1\n",
            "Vamos criar ideias de atividades para Atividades numeral 1\n",
            "\n",
            "--- �� Resultado do Agente 1 (Buscador de Atividades) ---\n",
            "\n"
          ]
        },
        {
          "output_type": "display_data",
          "data": {
            "text/plain": [
              "<IPython.core.display.Markdown object>"
            ],
            "text/markdown": "> Aqui estão algumas ideias de atividades com o numeral 1 que encontrei para crianças:\n> \n>  \n> Com certeza! Aqui estão algumas ideias de atividades criativas e práticas para ensinar o numeral 1 às crianças, priorizando aquelas com recursos visuais:\n> \n>  *  **Colagem do número 1:** Imprima ou desenhe um grande número 1 em uma folha. Peça às crianças para colarem pedacinhos de papel colorido, botões, lantejoulas ou outros materiais sobre o número, criando uma textura interessante.\n>  *  **Contagem de objetos:** Reúna diversos objetos pequenos, como brinquedos, frutas ou blocos de montar. Peça às crianças para separarem um único objeto de cada tipo, reforçando o conceito de \"um\".\n>  *  **Desenho e pintura:** Incentive as crianças a desenharem um objeto que represente o número 1, como um sol, uma flor ou uma casa. Elas podem usar tintas, lápis de cor ou canetinhas para colorir seus desenhos.\n>  *  **Modelagem com massinha:** Ofereça massinha de modelar e peça às crianças para criarem o número 1. Elas também podem modelar um objeto que represente o número, como uma cobra ou um palito.\n>  *  **Jogo da trilha:** Desenhe uma trilha com casas numeradas de 1 a 10. As crianças jogam um dado e avançam o número de casas correspondente. Ao chegarem na casa número 1, elas devem realizar uma tarefa simples, como dar um pulo ou bater palma.\n>  *  **Livro sensorial do número 1:** Crie um livro com diferentes texturas e materiais, representando o número 1 em cada página. Por exemplo, uma página pode ter um pedaço de feltro colado em forma de número 1, enquanto outra pode ter um botão grande.\n> \n>  **Recursos adicionais:**\n> \n>  *  **Vídeos educativos:** Procure por vídeos no YouTube que ensinem o número 1 de forma lúdica e divertida, com músicas e animações.\n>  *  **Aplicativos e jogos digitais:** Existem diversos aplicativos e jogos educativos que ajudam as crianças a aprenderem os números de forma interativa.\n> \n>  **Dica:** Adapte as atividades à idade e ao nível de desenvolvimento das crianças. O mais importante é tornar o aprendizado divertido e significativo!\n"
          },
          "metadata": {}
        },
        {
          "output_type": "stream",
          "name": "stdout",
          "text": [
            "\n",
            "--- �� Resultado do Agente 2 (Planejador de Atividades) ---\n",
            "\n"
          ]
        },
        {
          "output_type": "display_data",
          "data": {
            "text/plain": [
              "<IPython.core.display.Markdown object>"
            ],
            "text/markdown": "> ## Planejamento de Atividades com o Numeral 1\n> \n> Aqui está um plano de atividades organizadas por categorias, com materiais necessários e sugestões de aplicação em sala de aula:\n> \n> **1. Atividades Manuais:**\n> \n> *   **Colagem do número 1:**\n>     *   **Materiais:**\n>         *   Folhas de papel com o número 1 grande impresso ou desenhado.\n>         *   Pedaços de papel colorido, botões, lantejoulas, grãos, barbante, etc.\n>         *   Cola.\n>     *   **Aplicação:**\n>         1.  Apresente o número 1 visualmente.\n>         2.  Distribua as folhas e os materiais de colagem.\n>         3.  Demonstre como colar os materiais sobre o número 1.\n>         4.  Incentive a criatividade e a exploração de diferentes texturas.\n> *   **Modelagem com massinha:**\n>     *   **Materiais:**\n>         *   Massinha de modelar de diversas cores.\n>         *   Superfícies lisas (mesas ou placas).\n>     *   **Aplicação:**\n>         1.  Apresente o número 1.\n>         2.  Demonstre como modelar o número 1 com a massinha.\n>         3.  Incentive as crianças a criarem o número 1 e um objeto que o represente (ex: 1 cobra, 1 flor).\n> *   **Livro sensorial do número 1:**\n>     *   **Materiais:**\n>         *   Folhas de feltro, tecido, papel cartão.\n>         *   Cola, tesoura.\n>         *   Diferentes materiais com texturas (botões, lixa, algodão, lã, etc.).\n>     *   **Aplicação:**\n>         1.  Confeccionar um livro, onde cada página representa o número 1 com uma textura diferente.\n>         2.  Explore o livro sensorial em sala de aula, permitindo que as crianças toquem e sintam as diferentes texturas enquanto reforçam o conceito do número 1.\n> \n> **2. Jogos:**\n> \n> *   **Contagem de objetos:**\n>     *   **Materiais:**\n>         *   Diversos objetos pequenos (brinquedos, frutas, blocos, lápis, etc.).\n>         *   Cestas ou recipientes.\n>     *   **Aplicação:**\n>         1.  Apresente os objetos.\n>         2.  Peça para as crianças separarem \"um\" objeto de cada tipo.\n>         3.  Incentive a contagem em voz alta: \"Um brinquedo, uma fruta, um bloco...\"\n> *   **Jogo da trilha:**\n>     *   **Materiais:**\n>         *   Trilha desenhada com casas numeradas de 1 a 10.\n>         *   Dado.\n>         *   Marcadores (peças pequenas, botões, etc.).\n>     *   **Aplicação:**\n>         1.  Explique as regras do jogo.\n>         2.  As crianças jogam o dado e avançam na trilha.\n>         3.  Ao chegar na casa número 1, realizam uma tarefa (ex: dar um pulo, bater palma).\n> \n> **3. Música e Movimento:**\n> \n> *   **Música do número 1:**\n>     *   **Materiais:**\n>         *   Acesso à internet ou CD player.\n>         *   Músicas infantis sobre o número 1 (procure no YouTube ou plataformas de streaming).\n>     *   **Aplicação:**\n>         1.  Apresente a música.\n>         2.  Cante e dance com as crianças, enfatizando o número 1 na letra da música.\n> *   **Brincadeira \"Um Dedinho\":**\n>     *   **Materiais:** Nenhum.\n>     *   **Aplicação:**\n>         1.  Cante uma música que envolva levantar \"um dedinho\". Exemplo: \"Um dedinho, um dedinho, vou levantar, vou levantar...\"\n>         2.  Varie a brincadeira pedindo para levantar um pé, um braço, etc.\n> \n> **Recursos Adicionais:**\n> \n> *   **Vídeos Educativos:** Utilize vídeos do YouTube que ensinem o número 1 de forma lúdica.\n> *   **Aplicativos e Jogos Digitais:** Explore aplicativos e jogos educativos interativos sobre o número 1.\n> \n> **Dicas Gerais:**\n> \n> *   Adapte as atividades à faixa etária e ao nível de desenvolvimento das crianças.\n> *   Use recursos visuais sempre que possível (imagens, cartazes, objetos).\n> *   Mantenha as atividades curtas e dinâmicas para manter o interesse das crianças.\n> *   Torne o aprendizado divertido e significativo! Incentive a participação e o entusiasmo.\n> *   Repita as atividades em diferentes momentos para reforçar o aprendizado.\n> \n"
          },
          "metadata": {}
        }
      ]
    }
  ]
}